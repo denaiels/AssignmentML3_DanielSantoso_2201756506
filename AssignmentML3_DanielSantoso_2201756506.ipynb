{
 "cells": [
  {
   "cell_type": "markdown",
   "metadata": {},
   "source": [
    "Nama : Daniel Santoso\n",
    "NIM  : 2201756506\n",
    "Kelas: LB01\n",
    "\n",
    "Given data of Singapore Airbnb which can be downloaded in this link\n",
    "https://www.kaggle.com/jojoker/singapore-airbnb\n",
    "\n",
    "Questions:\n",
    "1. From the downloaded data we can identify discrete and continuous random variables. Discuss about those variables!\n",
    "2. We can also calculate mean and variance each for discrete and continuous random variables.\n",
    "\n",
    "Answers:\n",
    "1. Discrete and Continuous Random Variables\n",
    "A Random Variable is a set of possible values/outcome from a random experiment.\n",
    "\n",
    "There are 2 types, Discrete and Continuous.\n",
    "\n",
    "a. Discrete:\n",
    "Discrete Random Variables are random variables which can take only certain values and can be precisely measured. The number of possible values can be counted or listed. In the data above, the discrete random variables are:\n",
    "+ id\n",
    "+ name\n",
    "+ host id\n",
    "+ host_name\n",
    "+ neighbourhood_group\n",
    "+ neighbourhood\n",
    "+ room_type\n",
    "+ price\n",
    "+ minimum_nights\n",
    "+ number_of_reviews\n",
    "+ last_review\n",
    "+ reviews_per_month\n",
    "+ calculated_host_listings_count\n",
    "+ availability_365\n",
    "\n",
    "Because their values can be precisely measured and the number of possible values can be counted although it would take a long time to count, but still it is possible.\n",
    "\n",
    "b. Continuous:\n",
    "Continuous Random Variables are random variables which can take any value within a range and the values cannot be precisely measured. The number of possible values cannot be counted or listed because even the value itself is unmeasurable.\n",
    "In the data above, the continuous random variables are:\n",
    "+ latitude\n",
    "+ longitude\n",
    "\n",
    "Because their values cannot be precisely determined as it because of infinite decimals, and the number of possible values are uncountable as it takes forever to count tha possible values because even one value can consist of infinite numbers.\n",
    "\n",
    "2. Calculate Mean and Variance for the discrete and continuous random variables"
   ]
  },
  {
   "cell_type": "code",
   "execution_count": 10,
   "metadata": {},
   "outputs": [
    {
     "name": "stdout",
     "output_type": "stream",
     "text": [
      "            id                                               name    host_id  \\\n",
      "0        49091                  COZICOMFORT LONG TERM STAY ROOM 2     266763   \n",
      "1        50646                    Pleasant Room along Bukit Timah     227796   \n",
      "2        56334                                        COZICOMFORT     266763   \n",
      "3        71609                Ensuite Room (Room 1 & 2) near EXPO     367042   \n",
      "4        71896                    B&B  Room 1 near Airport & EXPO     367042   \n",
      "...        ...                                                ...        ...   \n",
      "7902  38105126  Loft 2 pax near Haw Par / Pasir Panjang. Free ...  278109833   \n",
      "7903  38108273                         3bedroom luxury at Orchard  238891646   \n",
      "7904  38109336    [ Farrer Park ] New City Fringe CBD Mins to MRT  281448565   \n",
      "7905  38110493          Cheap Master Room in Central of Singapore  243835202   \n",
      "7906  38112762  Amazing room with private bathroom walk to Orc...   28788520   \n",
      "\n",
      "      host_name neighbourhood_group neighbourhood  latitude  longitude  \\\n",
      "0     Francesca        North Region     Woodlands   1.44255  103.79580   \n",
      "1       Sujatha      Central Region   Bukit Timah   1.33235  103.78521   \n",
      "2     Francesca        North Region     Woodlands   1.44246  103.79667   \n",
      "3       Belinda         East Region      Tampines   1.34541  103.95712   \n",
      "4       Belinda         East Region      Tampines   1.34567  103.95963   \n",
      "...         ...                 ...           ...       ...        ...   \n",
      "7902      Belle      Central Region    Queenstown   1.27973  103.78751   \n",
      "7903       Neha      Central Region       Tanglin   1.29269  103.82623   \n",
      "7904      Mindy      Central Region       Kallang   1.31286  103.85996   \n",
      "7905      Huang      Central Region  River Valley   1.29543  103.83801   \n",
      "7906    Terence      Central Region  River Valley   1.29672  103.83325   \n",
      "\n",
      "            room_type  price  minimum_nights  number_of_reviews last_review  \\\n",
      "0        Private room     83             180                  1  2013-10-21   \n",
      "1        Private room     81              90                 18  2014-12-26   \n",
      "2        Private room     69               6                 20  2015-10-01   \n",
      "3        Private room    206               1                 14  2019-08-11   \n",
      "4        Private room     94               1                 22  2019-07-28   \n",
      "...               ...    ...             ...                ...         ...   \n",
      "7902  Entire home/apt    100               3                  0         NaN   \n",
      "7903  Entire home/apt    550               6                  0         NaN   \n",
      "7904     Private room     58              30                  0         NaN   \n",
      "7905     Private room     56              14                  0         NaN   \n",
      "7906     Private room     65              90                  0         NaN   \n",
      "\n",
      "      reviews_per_month  calculated_host_listings_count  availability_365  \n",
      "0                  0.01                               2               365  \n",
      "1                  0.28                               1               365  \n",
      "2                  0.20                               2               365  \n",
      "3                  0.15                               9               353  \n",
      "4                  0.22                               9               355  \n",
      "...                 ...                             ...               ...  \n",
      "7902                NaN                              31                61  \n",
      "7903                NaN                              34               365  \n",
      "7904                NaN                               3               173  \n",
      "7905                NaN                               2                30  \n",
      "7906                NaN                               7               365  \n",
      "\n",
      "[7907 rows x 16 columns]\n"
     ]
    }
   ],
   "source": [
    "import pandas as pd\n",
    "\n",
    "airData = pd.read_csv(\"listings.csv\")\n",
    "print(airData)"
   ]
  },
  {
   "cell_type": "code",
   "execution_count": 15,
   "metadata": {},
   "outputs": [
    {
     "name": "stdout",
     "output_type": "stream",
     "text": [
      "id                                2.338862e+07\n",
      "host_id                           9.114481e+07\n",
      "latitude                          1.314192e+00\n",
      "longitude                         1.038488e+02\n",
      "price                             1.693330e+02\n",
      "minimum_nights                    1.751005e+01\n",
      "number_of_reviews                 1.280739e+01\n",
      "reviews_per_month                 1.043669e+00\n",
      "calculated_host_listings_count    4.060769e+01\n",
      "availability_365                  2.087263e+02\n",
      "dtype: float64\n"
     ]
    }
   ],
   "source": [
    "meanValue = airData.mean()\n",
    "print(meanValue)"
   ]
  },
  {
   "cell_type": "code",
   "execution_count": 16,
   "metadata": {},
   "outputs": [
    {
     "name": "stdout",
     "output_type": "stream",
     "text": [
      "id                                1.033102e+14\n",
      "host_id                           6.709100e+15\n",
      "latitude                          9.349801e-04\n",
      "longitude                         1.907474e-03\n",
      "price                             1.157276e+05\n",
      "minimum_nights                    1.771957e+03\n",
      "number_of_reviews                 8.825502e+02\n",
      "reviews_per_month                 1.653413e+00\n",
      "calculated_host_listings_count    4.242601e+03\n",
      "availability_365                  2.135106e+04\n",
      "dtype: float64\n"
     ]
    }
   ],
   "source": [
    "varValue = airData.var()\n",
    "print(varValue)"
   ]
  },
  {
   "cell_type": "code",
   "execution_count": null,
   "metadata": {},
   "outputs": [],
   "source": []
  }
 ],
 "metadata": {
  "kernelspec": {
   "display_name": "Python 3",
   "language": "python",
   "name": "python3"
  },
  "language_info": {
   "codemirror_mode": {
    "name": "ipython",
    "version": 3
   },
   "file_extension": ".py",
   "mimetype": "text/x-python",
   "name": "python",
   "nbconvert_exporter": "python",
   "pygments_lexer": "ipython3",
   "version": "3.7.6"
  }
 },
 "nbformat": 4,
 "nbformat_minor": 4
}
